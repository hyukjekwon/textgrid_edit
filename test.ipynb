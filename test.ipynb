{
 "cells": [
  {
   "cell_type": "code",
   "execution_count": 249,
   "metadata": {},
   "outputs": [],
   "source": [
    "import textgrid"
   ]
  },
  {
   "cell_type": "code",
   "execution_count": 250,
   "metadata": {},
   "outputs": [],
   "source": [
    "# for debugging\n",
    "def print_tiers(tg):\n",
    "    for t in tg:\n",
    "        print(t)\n",
    "\n",
    "# helper for div_tier\n",
    "def insert_tier(tg, tier, idx):\n",
    "    buf = []\n",
    "    while tg:\n",
    "        buf.append(tg.pop())\n",
    "    buf = buf[::-1]\n",
    "    buf.insert(idx, tier)\n",
    "    for b in buf:\n",
    "        tg.append(b)\n",
    "\n",
    "# add new tier of divided tier\n",
    "def div_tier(tg, tier_no, num_div):\n",
    "    def mega(blah):\n",
    "        return int(blah * 100000)\n",
    "    tier = tg[tier_no][1:]\n",
    "    newtier = textgrid.IntervalTier(str(tier_no + 1))\n",
    "    buf = []\n",
    "    for itvl in tier:\n",
    "        minTime = int(mega(itvl.minTime))\n",
    "        maxTime = int(mega(itvl.maxTime))\n",
    "        itvl_len = int((maxTime - minTime) / num_div)\n",
    "        for i in range(num_div):\n",
    "            buf.append(minTime + (i * itvl_len))\n",
    "    for i, b in list(enumerate(buf))[:-1]:\n",
    "        minTime = b / 100000\n",
    "        maxTime = buf[i + 1] / 100000\n",
    "        new_itvl = textgrid.Interval(minTime, maxTime, \"\")\n",
    "        newtier.addInterval(new_itvl)\n",
    "    insert_tier(tg, newtier, tier_no + 1)\n",
    "    "
   ]
  },
  {
   "cell_type": "code",
   "execution_count": 251,
   "metadata": {},
   "outputs": [
    {
     "name": "stdout",
     "output_type": "stream",
     "text": [
      "<IntervalTier w, 70 intervals>\n",
      "<IntervalTier new, 137 intervals>\n",
      "<IntervalTier 2ths, 139 intervals>\n",
      "<IntervalTier 2, 273 intervals>\n",
      "<IntervalTier 3, 545 intervals>\n",
      "<IntervalTier 4, 1089 intervals>\n",
      "<IntervalTier syllables , 936 intervals>\n",
      "<IntervalTier syllables (exact), 937 intervals>\n",
      "<IntervalTier stress, 937 intervals>\n",
      "<IntervalTier zones, 6 intervals>\n"
     ]
    }
   ],
   "source": [
    "filename = '01_Panda.TextGrid'\n",
    "tg = textgrid.TextGrid.fromFile(filename)\n",
    "div_tier(tg, 0, 2)\n",
    "tg.write('new_' + filename)"
   ]
  }
 ],
 "metadata": {
  "interpreter": {
   "hash": "aee8b7b246df8f9039afb4144a1f6fd8d2ca17a180786b69acc140d282b71a49"
  },
  "kernelspec": {
   "display_name": "Python 3.9.4 64-bit",
   "language": "python",
   "name": "python3"
  },
  "language_info": {
   "codemirror_mode": {
    "name": "ipython",
    "version": 3
   },
   "file_extension": ".py",
   "mimetype": "text/x-python",
   "name": "python",
   "nbconvert_exporter": "python",
   "pygments_lexer": "ipython3",
   "version": "3.9.4"
  },
  "orig_nbformat": 4
 },
 "nbformat": 4,
 "nbformat_minor": 2
}
